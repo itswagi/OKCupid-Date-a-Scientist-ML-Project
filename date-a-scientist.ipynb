{
 "cells": [
  {
   "source": [
    "# Introduction\n",
    "\n",
    "This Data Science Project analyzes data from a dating application called OKCupid. As a rise in dating apps continues, the amount fo data collected has also rised. This data can be used to gain insights and find hidden traits that would have been otherwise impossible to find without using Data Science. \n",
    "\n",
    "The goals of this project are to scope, prep, analyze and build a machine learning model from it \n",
    "\n",
    "**Data Sources**\n",
    "\n",
    "`profiles.csv` provided by Codecademy.com (which I have not added to the git repository due to file size restrictions)"
   ],
   "cell_type": "markdown",
   "metadata": {}
  },
  {
   "source": [
    "### Project Goals\n",
    "\n",
    "The primary goal of this project to apply skills learned through the Code Academy Data Science career path and apply machine learning techniques to a dataset. The question in focus is to predict user's astrological sign from the given variables from their profiles. \n",
    "\n",
    "### Data\n",
    "\n",
    "The data is provided by Codecademy in `profiles.csv`. The rows contain individual users while the columns represent the features from thier prodiles. \n",
    "\n",
    "### Analysis\n",
    "\n",
    "This project will use descriptive statistics and data visualization to find key features and relationships between variables. Since we have to predict user's astrological signs, a classification algorithm will be used from the supervised ML models.\n",
    "\n",
    "### Evaluation\n",
    "\n",
    "The project will conclude with evaluating the models score through confusion matrix and metrics such as accuracy, precision, recall, and f1 scores.\n",
    "\n"
   ],
   "cell_type": "markdown",
   "metadata": {}
  },
  {
   "source": [
    "### Importing required libraries"
   ],
   "cell_type": "markdown",
   "metadata": {}
  },
  {
   "cell_type": "code",
   "execution_count": 17,
   "metadata": {},
   "outputs": [],
   "source": [
    "import pandas as pd\n",
    "from matplotlib import pyplot as plt\n",
    "import seaborn as sns\n",
    "import numpy as np \n",
    "pd.set_option('display.max_columns', None)"
   ]
  },
  {
   "source": [
    "### Load the dataset\n"
   ],
   "cell_type": "markdown",
   "metadata": {}
  },
  {
   "cell_type": "code",
   "execution_count": 18,
   "metadata": {},
   "outputs": [
    {
     "output_type": "execute_result",
     "data": {
      "text/plain": [
       "   age       body_type               diet    drinks      drugs  \\\n",
       "0   22  a little extra  strictly anything  socially      never   \n",
       "1   35         average       mostly other     often  sometimes   \n",
       "2   38            thin           anything  socially        NaN   \n",
       "3   23            thin         vegetarian  socially        NaN   \n",
       "4   29        athletic                NaN  socially      never   \n",
       "\n",
       "                           education  \\\n",
       "0      working on college/university   \n",
       "1              working on space camp   \n",
       "2     graduated from masters program   \n",
       "3      working on college/university   \n",
       "4  graduated from college/university   \n",
       "\n",
       "                                              essay0  \\\n",
       "0  about me:<br />\\n<br />\\ni would love to think...   \n",
       "1  i am a chef: this is what that means.<br />\\n1...   \n",
       "2  i'm not ashamed of much, but writing public te...   \n",
       "3          i work in a library and go to school. . .   \n",
       "4  hey how's it going? currently vague on the pro...   \n",
       "\n",
       "                                              essay1  \\\n",
       "0  currently working as an international agent fo...   \n",
       "1  dedicating everyday to being an unbelievable b...   \n",
       "2  i make nerdy software for musicians, artists, ...   \n",
       "3          reading things written by old dead people   \n",
       "4                         work work work work + play   \n",
       "\n",
       "                                              essay2  \\\n",
       "0  making people laugh.<br />\\nranting about a go...   \n",
       "1  being silly. having ridiculous amonts of fun w...   \n",
       "2  improvising in different contexts. alternating...   \n",
       "3  playing synthesizers and organizing books acco...   \n",
       "4  creating imagery to look at:<br />\\nhttp://bag...   \n",
       "\n",
       "                                              essay3  \\\n",
       "0  the way i look. i am a six foot half asian, ha...   \n",
       "1                                                NaN   \n",
       "2  my large jaw and large glasses are the physica...   \n",
       "3                  socially awkward but i do my best   \n",
       "4            i smile a lot and my inquisitive nature   \n",
       "\n",
       "                                              essay4  \\\n",
       "0  books:<br />\\nabsurdistan, the republic, of mi...   \n",
       "1  i am die hard christopher moore fan. i don't r...   \n",
       "2  okay this is where the cultural matrix gets so...   \n",
       "3  bataille, celine, beckett. . .<br />\\nlynch, j...   \n",
       "4  music: bands, rappers, musicians<br />\\nat the...   \n",
       "\n",
       "                                              essay5  \\\n",
       "0  food.<br />\\nwater.<br />\\ncell phone.<br />\\n...   \n",
       "1  delicious porkness in all of its glories.<br /...   \n",
       "2  movement<br />\\nconversation<br />\\ncreation<b...   \n",
       "3                                                NaN   \n",
       "4                                                NaN   \n",
       "\n",
       "                        essay6  \\\n",
       "0  duality and humorous things   \n",
       "1                          NaN   \n",
       "2                          NaN   \n",
       "3   cats and german philosophy   \n",
       "4                          NaN   \n",
       "\n",
       "                                              essay7  \\\n",
       "0  trying to find someone to hang out with. i am ...   \n",
       "1                                                NaN   \n",
       "2  viewing. listening. dancing. talking. drinking...   \n",
       "3                                                NaN   \n",
       "4                                                NaN   \n",
       "\n",
       "                                              essay8  \\\n",
       "0  i am new to california and looking for someone...   \n",
       "1  i am very open and will share just about anyth...   \n",
       "2  when i was five years old, i was known as \"the...   \n",
       "3                                                NaN   \n",
       "4                                                NaN   \n",
       "\n",
       "                                              essay9            ethnicity  \\\n",
       "0  you want to be swept off your feet!<br />\\nyou...         asian, white   \n",
       "1                                                NaN                white   \n",
       "2  you are bright, open, intense, silly, ironic, ...                  NaN   \n",
       "3                              you feel so inclined.                white   \n",
       "4                                                NaN  asian, black, other   \n",
       "\n",
       "   height  income                          job       last_online  \\\n",
       "0    75.0      -1               transportation  2012-06-28-20-30   \n",
       "1    70.0   80000         hospitality / travel  2012-06-29-21-41   \n",
       "2    68.0      -1                          NaN  2012-06-27-09-10   \n",
       "3    71.0   20000                      student  2012-06-28-14-22   \n",
       "4    66.0      -1  artistic / musical / writer  2012-06-27-21-26   \n",
       "\n",
       "                          location  \\\n",
       "0  south san francisco, california   \n",
       "1              oakland, california   \n",
       "2        san francisco, california   \n",
       "3             berkeley, california   \n",
       "4        san francisco, california   \n",
       "\n",
       "                                      offspring orientation  \\\n",
       "0  doesn&rsquo;t have kids, but might want them    straight   \n",
       "1  doesn&rsquo;t have kids, but might want them    straight   \n",
       "2                                           NaN    straight   \n",
       "3                       doesn&rsquo;t want kids    straight   \n",
       "4                                           NaN    straight   \n",
       "\n",
       "                        pets                                  religion sex  \\\n",
       "0  likes dogs and likes cats     agnosticism and very serious about it   m   \n",
       "1  likes dogs and likes cats  agnosticism but not too serious about it   m   \n",
       "2                   has cats                                       NaN   m   \n",
       "3                 likes cats                                       NaN   m   \n",
       "4  likes dogs and likes cats                                       NaN   m   \n",
       "\n",
       "                                 sign     smokes  \\\n",
       "0                              gemini  sometimes   \n",
       "1                              cancer         no   \n",
       "2  pisces but it doesn&rsquo;t matter         no   \n",
       "3                              pisces         no   \n",
       "4                            aquarius         no   \n",
       "\n",
       "                                              speaks     status  \n",
       "0                                            english     single  \n",
       "1  english (fluently), spanish (poorly), french (...     single  \n",
       "2                               english, french, c++  available  \n",
       "3                           english, german (poorly)     single  \n",
       "4                                            english     single  "
      ],
      "text/html": "<div>\n<style scoped>\n    .dataframe tbody tr th:only-of-type {\n        vertical-align: middle;\n    }\n\n    .dataframe tbody tr th {\n        vertical-align: top;\n    }\n\n    .dataframe thead th {\n        text-align: right;\n    }\n</style>\n<table border=\"1\" class=\"dataframe\">\n  <thead>\n    <tr style=\"text-align: right;\">\n      <th></th>\n      <th>age</th>\n      <th>body_type</th>\n      <th>diet</th>\n      <th>drinks</th>\n      <th>drugs</th>\n      <th>education</th>\n      <th>essay0</th>\n      <th>essay1</th>\n      <th>essay2</th>\n      <th>essay3</th>\n      <th>essay4</th>\n      <th>essay5</th>\n      <th>essay6</th>\n      <th>essay7</th>\n      <th>essay8</th>\n      <th>essay9</th>\n      <th>ethnicity</th>\n      <th>height</th>\n      <th>income</th>\n      <th>job</th>\n      <th>last_online</th>\n      <th>location</th>\n      <th>offspring</th>\n      <th>orientation</th>\n      <th>pets</th>\n      <th>religion</th>\n      <th>sex</th>\n      <th>sign</th>\n      <th>smokes</th>\n      <th>speaks</th>\n      <th>status</th>\n    </tr>\n  </thead>\n  <tbody>\n    <tr>\n      <th>0</th>\n      <td>22</td>\n      <td>a little extra</td>\n      <td>strictly anything</td>\n      <td>socially</td>\n      <td>never</td>\n      <td>working on college/university</td>\n      <td>about me:&lt;br /&gt;\\n&lt;br /&gt;\\ni would love to think...</td>\n      <td>currently working as an international agent fo...</td>\n      <td>making people laugh.&lt;br /&gt;\\nranting about a go...</td>\n      <td>the way i look. i am a six foot half asian, ha...</td>\n      <td>books:&lt;br /&gt;\\nabsurdistan, the republic, of mi...</td>\n      <td>food.&lt;br /&gt;\\nwater.&lt;br /&gt;\\ncell phone.&lt;br /&gt;\\n...</td>\n      <td>duality and humorous things</td>\n      <td>trying to find someone to hang out with. i am ...</td>\n      <td>i am new to california and looking for someone...</td>\n      <td>you want to be swept off your feet!&lt;br /&gt;\\nyou...</td>\n      <td>asian, white</td>\n      <td>75.0</td>\n      <td>-1</td>\n      <td>transportation</td>\n      <td>2012-06-28-20-30</td>\n      <td>south san francisco, california</td>\n      <td>doesn&amp;rsquo;t have kids, but might want them</td>\n      <td>straight</td>\n      <td>likes dogs and likes cats</td>\n      <td>agnosticism and very serious about it</td>\n      <td>m</td>\n      <td>gemini</td>\n      <td>sometimes</td>\n      <td>english</td>\n      <td>single</td>\n    </tr>\n    <tr>\n      <th>1</th>\n      <td>35</td>\n      <td>average</td>\n      <td>mostly other</td>\n      <td>often</td>\n      <td>sometimes</td>\n      <td>working on space camp</td>\n      <td>i am a chef: this is what that means.&lt;br /&gt;\\n1...</td>\n      <td>dedicating everyday to being an unbelievable b...</td>\n      <td>being silly. having ridiculous amonts of fun w...</td>\n      <td>NaN</td>\n      <td>i am die hard christopher moore fan. i don't r...</td>\n      <td>delicious porkness in all of its glories.&lt;br /...</td>\n      <td>NaN</td>\n      <td>NaN</td>\n      <td>i am very open and will share just about anyth...</td>\n      <td>NaN</td>\n      <td>white</td>\n      <td>70.0</td>\n      <td>80000</td>\n      <td>hospitality / travel</td>\n      <td>2012-06-29-21-41</td>\n      <td>oakland, california</td>\n      <td>doesn&amp;rsquo;t have kids, but might want them</td>\n      <td>straight</td>\n      <td>likes dogs and likes cats</td>\n      <td>agnosticism but not too serious about it</td>\n      <td>m</td>\n      <td>cancer</td>\n      <td>no</td>\n      <td>english (fluently), spanish (poorly), french (...</td>\n      <td>single</td>\n    </tr>\n    <tr>\n      <th>2</th>\n      <td>38</td>\n      <td>thin</td>\n      <td>anything</td>\n      <td>socially</td>\n      <td>NaN</td>\n      <td>graduated from masters program</td>\n      <td>i'm not ashamed of much, but writing public te...</td>\n      <td>i make nerdy software for musicians, artists, ...</td>\n      <td>improvising in different contexts. alternating...</td>\n      <td>my large jaw and large glasses are the physica...</td>\n      <td>okay this is where the cultural matrix gets so...</td>\n      <td>movement&lt;br /&gt;\\nconversation&lt;br /&gt;\\ncreation&lt;b...</td>\n      <td>NaN</td>\n      <td>viewing. listening. dancing. talking. drinking...</td>\n      <td>when i was five years old, i was known as \"the...</td>\n      <td>you are bright, open, intense, silly, ironic, ...</td>\n      <td>NaN</td>\n      <td>68.0</td>\n      <td>-1</td>\n      <td>NaN</td>\n      <td>2012-06-27-09-10</td>\n      <td>san francisco, california</td>\n      <td>NaN</td>\n      <td>straight</td>\n      <td>has cats</td>\n      <td>NaN</td>\n      <td>m</td>\n      <td>pisces but it doesn&amp;rsquo;t matter</td>\n      <td>no</td>\n      <td>english, french, c++</td>\n      <td>available</td>\n    </tr>\n    <tr>\n      <th>3</th>\n      <td>23</td>\n      <td>thin</td>\n      <td>vegetarian</td>\n      <td>socially</td>\n      <td>NaN</td>\n      <td>working on college/university</td>\n      <td>i work in a library and go to school. . .</td>\n      <td>reading things written by old dead people</td>\n      <td>playing synthesizers and organizing books acco...</td>\n      <td>socially awkward but i do my best</td>\n      <td>bataille, celine, beckett. . .&lt;br /&gt;\\nlynch, j...</td>\n      <td>NaN</td>\n      <td>cats and german philosophy</td>\n      <td>NaN</td>\n      <td>NaN</td>\n      <td>you feel so inclined.</td>\n      <td>white</td>\n      <td>71.0</td>\n      <td>20000</td>\n      <td>student</td>\n      <td>2012-06-28-14-22</td>\n      <td>berkeley, california</td>\n      <td>doesn&amp;rsquo;t want kids</td>\n      <td>straight</td>\n      <td>likes cats</td>\n      <td>NaN</td>\n      <td>m</td>\n      <td>pisces</td>\n      <td>no</td>\n      <td>english, german (poorly)</td>\n      <td>single</td>\n    </tr>\n    <tr>\n      <th>4</th>\n      <td>29</td>\n      <td>athletic</td>\n      <td>NaN</td>\n      <td>socially</td>\n      <td>never</td>\n      <td>graduated from college/university</td>\n      <td>hey how's it going? currently vague on the pro...</td>\n      <td>work work work work + play</td>\n      <td>creating imagery to look at:&lt;br /&gt;\\nhttp://bag...</td>\n      <td>i smile a lot and my inquisitive nature</td>\n      <td>music: bands, rappers, musicians&lt;br /&gt;\\nat the...</td>\n      <td>NaN</td>\n      <td>NaN</td>\n      <td>NaN</td>\n      <td>NaN</td>\n      <td>NaN</td>\n      <td>asian, black, other</td>\n      <td>66.0</td>\n      <td>-1</td>\n      <td>artistic / musical / writer</td>\n      <td>2012-06-27-21-26</td>\n      <td>san francisco, california</td>\n      <td>NaN</td>\n      <td>straight</td>\n      <td>likes dogs and likes cats</td>\n      <td>NaN</td>\n      <td>m</td>\n      <td>aquarius</td>\n      <td>no</td>\n      <td>english</td>\n      <td>single</td>\n    </tr>\n  </tbody>\n</table>\n</div>"
     },
     "metadata": {},
     "execution_count": 18
    }
   ],
   "source": [
    "data = pd.read_csv('profiles.csv')\n",
    "data.head()"
   ]
  },
  {
   "source": [
    "### Understanding the data\n",
    "\n",
    "We can extract some key information from the data by finding the columns present, the # of rows and if column names need to be renamed for easier access"
   ],
   "cell_type": "markdown",
   "metadata": {}
  },
  {
   "cell_type": "code",
   "execution_count": 19,
   "metadata": {},
   "outputs": [
    {
     "output_type": "stream",
     "name": "stdout",
     "text": [
      "Index(['age', 'body_type', 'diet', 'drinks', 'drugs', 'education', 'essay0',\n       'essay1', 'essay2', 'essay3', 'essay4', 'essay5', 'essay6', 'essay7',\n       'essay8', 'essay9', 'ethnicity', 'height', 'income', 'job',\n       'last_online', 'location', 'offspring', 'orientation', 'pets',\n       'religion', 'sex', 'sign', 'smokes', 'speaks', 'status'],\n      dtype='object')\n(59946, 31)\n"
     ]
    }
   ],
   "source": [
    "print(data.columns)\n",
    "print(data.shape)"
   ]
  },
  {
   "source": [
    "From the information above we can see that there is plenty of data available to use in a machine learning model for training.\n",
    "There are 31 columns and 59946 rows"
   ],
   "cell_type": "markdown",
   "metadata": {}
  },
  {
   "source": [
    "As we are interested in the astrological signs of the users, lets see that column and make any necessary cleaning"
   ],
   "cell_type": "markdown",
   "metadata": {}
  },
  {
   "cell_type": "code",
   "execution_count": 20,
   "metadata": {},
   "outputs": [
    {
     "output_type": "stream",
     "name": "stdout",
     "text": [
      "0                                          gemini\n1                                          cancer\n2              pisces but it doesn&rsquo;t matter\n3                                          pisces\n4                                        aquarius\n                           ...                   \n59941    cancer and it&rsquo;s fun to think about\n59942             leo but it doesn&rsquo;t matter\n59943     sagittarius but it doesn&rsquo;t matter\n59944       leo and it&rsquo;s fun to think about\n59945    gemini and it&rsquo;s fun to think about\nName: sign, Length: 59946, dtype: object\n0             gemini\n1             cancer\n2             pisces\n3             pisces\n4           aquarius\n            ...     \n59941         cancer\n59942            leo\n59943    sagittarius\n59944            leo\n59945         gemini\nName: sign_cleaned, Length: 59946, dtype: object\n"
     ]
    }
   ],
   "source": [
    "print(data['sign'])\n",
    "data['sign_cleaned'] = data['sign'].str.split().str.get(0)\n",
    "print(data['sign_cleaned'])"
   ]
  },
  {
   "cell_type": "code",
   "execution_count": 21,
   "metadata": {},
   "outputs": [
    {
     "output_type": "stream",
     "name": "stdout",
     "text": [
      "12\n['gemini' 'cancer' 'pisces' 'aquarius' 'taurus' 'virgo' 'sagittarius'\n 'leo' nan 'aries' 'libra' 'scorpio' 'capricorn']\n"
     ]
    }
   ],
   "source": [
    "print(data.sign_cleaned.nunique())\n",
    "print(data.sign_cleaned.unique())"
   ]
  },
  {
   "source": [
    "Now that we have cleaned the data for our use, visualizing the data would be essential to see what features correlate. That will allow us to remove any unwanted features that would produce noise"
   ],
   "cell_type": "markdown",
   "metadata": {}
  },
  {
   "cell_type": "code",
   "execution_count": null,
   "metadata": {},
   "outputs": [],
   "source": []
  }
 ],
 "metadata": {
  "kernelspec": {
   "name": "Python 3.7.6 64-bit (conda)",
   "display_name": "Python 3.7.6 64-bit (conda)",
   "metadata": {
    "interpreter": {
     "hash": "29e130cf30c3d4a783820cd59d7e128611202a85f4539b87509fb3d55a24318f"
    }
   }
  },
  "language_info": {
   "codemirror_mode": {
    "name": "ipython",
    "version": 3
   },
   "file_extension": ".py",
   "mimetype": "text/x-python",
   "name": "python",
   "nbconvert_exporter": "python",
   "pygments_lexer": "ipython3",
   "version": "3.7.6-final"
  }
 },
 "nbformat": 4,
 "nbformat_minor": 4
}