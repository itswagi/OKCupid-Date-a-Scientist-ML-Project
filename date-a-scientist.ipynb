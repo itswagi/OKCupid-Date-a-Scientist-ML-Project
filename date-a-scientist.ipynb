{
 "cells": [
  {
   "source": [
    "# Introduction\n",
    "\n",
    "This Data Science Project analyzes data from a dating application called OKCupid. As a rise in dating apps continues, the amount fo data collected has also rised. This data can be used to gain insights and find hidden traits that would have been otherwise impossible to find without using Data Science. \n",
    "\n",
    "The goals of this project are to scope, prep, analyze and build a machine learning model from it \n",
    "\n",
    "**Data Sources**\n",
    "\n",
    "`profiles.csv` provided by Codecademy.com (which I have not added to the git repository due to file size restrictions)"
   ],
   "cell_type": "markdown",
   "metadata": {}
  },
  {
   "source": [
    "### Project Goals\n",
    "\n",
    "The primary goal of this project to apply skills learned through the Code Academy Data Science career path and apply machine learning techniques to a dataset. The question in focus is to predict user's astrological sign from the given variables from their profiles. \n",
    "\n",
    "### Data\n",
    "\n",
    "The data is provided by Codecademy in `profiles.csv`. The rows contain individual users while the columns represent the features from thier prodiles. \n",
    "\n",
    "### Analysis\n",
    "\n",
    "This project will use descriptive statistics and data visualization to find key features and relationships between variables. Since we have to predict user's astrological signs, a classification algorithm will be used from the supervised ML models.\n",
    "\n",
    "### Evaluation\n",
    "\n",
    "The project will conclude with evaluating the models score through confusion matrix and metrics such as accuracy, precision, recall, and f1 scores.\n",
    "\n"
   ],
   "cell_type": "markdown",
   "metadata": {}
  },
  {
   "source": [
    "### Importing required libraries"
   ],
   "cell_type": "markdown",
   "metadata": {}
  },
  {
   "cell_type": "code",
   "execution_count": 1,
   "metadata": {},
   "outputs": [],
   "source": [
    "import pandas as pd\n",
    "from matplotlib import pyplot as plt\n",
    "import seaborn as sns\n",
    "import numpy as np \n"
   ]
  },
  {
   "cell_type": "code",
   "execution_count": null,
   "metadata": {},
   "outputs": [],
   "source": []
  }
 ],
 "metadata": {
  "kernelspec": {
   "name": "Python 3.7.6 64-bit (conda)",
   "display_name": "Python 3.7.6 64-bit (conda)",
   "metadata": {
    "interpreter": {
     "hash": "29e130cf30c3d4a783820cd59d7e128611202a85f4539b87509fb3d55a24318f"
    }
   }
  },
  "language_info": {
   "codemirror_mode": {
    "name": "ipython",
    "version": 3
   },
   "file_extension": ".py",
   "mimetype": "text/x-python",
   "name": "python",
   "nbconvert_exporter": "python",
   "pygments_lexer": "ipython3",
   "version": "3.7.6-final"
  }
 },
 "nbformat": 4,
 "nbformat_minor": 4
}